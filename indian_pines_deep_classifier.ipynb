{
 "cells": [
  {
   "cell_type": "code",
   "execution_count": 3,
   "id": "72efba2e-d74c-4071-87f0-36d60a9600d4",
   "metadata": {},
   "outputs": [
    {
     "name": "stdout",
     "output_type": "stream",
     "text": [
      "Selected bands (top 30): [169, 152, 168, 129, 8, 164, 163, 159, 171, 151, 153, 9, 166, 157, 156, 155, 149, 161, 10, 158, 154, 107, 12, 150, 31, 160, 118, 172, 162, 21]\n"
     ]
    },
    {
     "name": "stderr",
     "output_type": "stream",
     "text": [
      "Epoch 1 Training: 100%|██████████████████████████████████████████████████████████████████████████████████████████████████| 113/113 [00:06<00:00, 17.24it/s]\n"
     ]
    },
    {
     "name": "stdout",
     "output_type": "stream",
     "text": [
      "Epoch 1: Train Acc = 0.5156, Val Acc = 0.5119\n"
     ]
    },
    {
     "name": "stderr",
     "output_type": "stream",
     "text": [
      "Epoch 2 Training: 100%|██████████████████████████████████████████████████████████████████████████████████████████████████| 113/113 [00:06<00:00, 16.97it/s]\n"
     ]
    },
    {
     "name": "stdout",
     "output_type": "stream",
     "text": [
      "Epoch 2: Train Acc = 0.6341, Val Acc = 0.6289\n"
     ]
    },
    {
     "name": "stderr",
     "output_type": "stream",
     "text": [
      "Epoch 3 Training: 100%|██████████████████████████████████████████████████████████████████████████████████████████████████| 113/113 [00:06<00:00, 17.09it/s]\n"
     ]
    },
    {
     "name": "stdout",
     "output_type": "stream",
     "text": [
      "Epoch 3: Train Acc = 0.6730, Val Acc = 0.5639\n"
     ]
    },
    {
     "name": "stderr",
     "output_type": "stream",
     "text": [
      "Epoch 4 Training: 100%|██████████████████████████████████████████████████████████████████████████████████████████████████| 113/113 [00:06<00:00, 17.78it/s]\n"
     ]
    },
    {
     "name": "stdout",
     "output_type": "stream",
     "text": [
      "Epoch 4: Train Acc = 0.7101, Val Acc = 0.6452\n"
     ]
    },
    {
     "name": "stderr",
     "output_type": "stream",
     "text": [
      "Epoch 5 Training: 100%|██████████████████████████████████████████████████████████████████████████████████████████████████| 113/113 [00:05<00:00, 19.20it/s]\n"
     ]
    },
    {
     "name": "stdout",
     "output_type": "stream",
     "text": [
      "Epoch 5: Train Acc = 0.7438, Val Acc = 0.6163\n"
     ]
    },
    {
     "name": "stderr",
     "output_type": "stream",
     "text": [
      "Epoch 6 Training: 100%|██████████████████████████████████████████████████████████████████████████████████████████████████| 113/113 [00:05<00:00, 18.97it/s]\n"
     ]
    },
    {
     "name": "stdout",
     "output_type": "stream",
     "text": [
      "Epoch 6: Train Acc = 0.7740, Val Acc = 0.7327\n"
     ]
    },
    {
     "name": "stderr",
     "output_type": "stream",
     "text": [
      "Epoch 7 Training: 100%|██████████████████████████████████████████████████████████████████████████████████████████████████| 113/113 [00:06<00:00, 18.04it/s]\n"
     ]
    },
    {
     "name": "stdout",
     "output_type": "stream",
     "text": [
      "Epoch 7: Train Acc = 0.7936, Val Acc = 0.7483\n"
     ]
    },
    {
     "name": "stderr",
     "output_type": "stream",
     "text": [
      "Epoch 8 Training: 100%|██████████████████████████████████████████████████████████████████████████████████████████████████| 113/113 [00:05<00:00, 19.92it/s]\n"
     ]
    },
    {
     "name": "stdout",
     "output_type": "stream",
     "text": [
      "Epoch 8: Train Acc = 0.7835, Val Acc = 0.6563\n"
     ]
    },
    {
     "name": "stderr",
     "output_type": "stream",
     "text": [
      "Epoch 9 Training: 100%|██████████████████████████████████████████████████████████████████████████████████████████████████| 113/113 [00:05<00:00, 21.48it/s]\n"
     ]
    },
    {
     "name": "stdout",
     "output_type": "stream",
     "text": [
      "Epoch 9: Train Acc = 0.8018, Val Acc = 0.7158\n"
     ]
    },
    {
     "name": "stderr",
     "output_type": "stream",
     "text": [
      "Epoch 10 Training: 100%|█████████████████████████████████████████████████████████████████████████████████████████████████| 113/113 [00:05<00:00, 20.18it/s]\n"
     ]
    },
    {
     "name": "stdout",
     "output_type": "stream",
     "text": [
      "Epoch 10: Train Acc = 0.8022, Val Acc = 0.7070\n"
     ]
    },
    {
     "name": "stderr",
     "output_type": "stream",
     "text": [
      "Epoch 11 Training: 100%|█████████████████████████████████████████████████████████████████████████████████████████████████| 113/113 [00:06<00:00, 18.20it/s]\n"
     ]
    },
    {
     "name": "stdout",
     "output_type": "stream",
     "text": [
      "Epoch 11: Train Acc = 0.8350, Val Acc = 0.7574\n"
     ]
    },
    {
     "name": "stderr",
     "output_type": "stream",
     "text": [
      "Epoch 12 Training: 100%|█████████████████████████████████████████████████████████████████████████████████████████████████| 113/113 [00:06<00:00, 18.47it/s]\n"
     ]
    },
    {
     "name": "stdout",
     "output_type": "stream",
     "text": [
      "Epoch 12: Train Acc = 0.8362, Val Acc = 0.4969\n"
     ]
    },
    {
     "name": "stderr",
     "output_type": "stream",
     "text": [
      "Epoch 13 Training: 100%|█████████████████████████████████████████████████████████████████████████████████████████████████| 113/113 [00:05<00:00, 19.21it/s]\n"
     ]
    },
    {
     "name": "stdout",
     "output_type": "stream",
     "text": [
      "Epoch 13: Train Acc = 0.8299, Val Acc = 0.7044\n"
     ]
    },
    {
     "name": "stderr",
     "output_type": "stream",
     "text": [
      "Epoch 14 Training: 100%|█████████████████████████████████████████████████████████████████████████████████████████████████| 113/113 [00:06<00:00, 16.96it/s]\n"
     ]
    },
    {
     "name": "stdout",
     "output_type": "stream",
     "text": [
      "Epoch 14: Train Acc = 0.8584, Val Acc = 0.7541\n"
     ]
    },
    {
     "name": "stderr",
     "output_type": "stream",
     "text": [
      "Epoch 15 Training: 100%|█████████████████████████████████████████████████████████████████████████████████████████████████| 113/113 [00:06<00:00, 17.01it/s]\n"
     ]
    },
    {
     "name": "stdout",
     "output_type": "stream",
     "text": [
      "Epoch 15: Train Acc = 0.8536, Val Acc = 0.8094\n"
     ]
    },
    {
     "name": "stderr",
     "output_type": "stream",
     "text": [
      "Epoch 16 Training: 100%|█████████████████████████████████████████████████████████████████████████████████████████████████| 113/113 [00:06<00:00, 17.80it/s]\n"
     ]
    },
    {
     "name": "stdout",
     "output_type": "stream",
     "text": [
      "Epoch 16: Train Acc = 0.8655, Val Acc = 0.5047\n"
     ]
    },
    {
     "name": "stderr",
     "output_type": "stream",
     "text": [
      "Epoch 17 Training: 100%|█████████████████████████████████████████████████████████████████████████████████████████████████| 113/113 [00:06<00:00, 17.94it/s]\n"
     ]
    },
    {
     "name": "stdout",
     "output_type": "stream",
     "text": [
      "Epoch 17: Train Acc = 0.8684, Val Acc = 0.8254\n"
     ]
    },
    {
     "name": "stderr",
     "output_type": "stream",
     "text": [
      "Epoch 18 Training: 100%|█████████████████████████████████████████████████████████████████████████████████████████████████| 113/113 [00:06<00:00, 17.07it/s]\n"
     ]
    },
    {
     "name": "stdout",
     "output_type": "stream",
     "text": [
      "Epoch 18: Train Acc = 0.8790, Val Acc = 0.8833\n"
     ]
    },
    {
     "name": "stderr",
     "output_type": "stream",
     "text": [
      "Epoch 19 Training: 100%|█████████████████████████████████████████████████████████████████████████████████████████████████| 113/113 [00:06<00:00, 17.45it/s]\n"
     ]
    },
    {
     "name": "stdout",
     "output_type": "stream",
     "text": [
      "Epoch 19: Train Acc = 0.8761, Val Acc = 0.7766\n"
     ]
    },
    {
     "name": "stderr",
     "output_type": "stream",
     "text": [
      "Epoch 20 Training: 100%|█████████████████████████████████████████████████████████████████████████████████████████████████| 113/113 [00:06<00:00, 16.96it/s]\n"
     ]
    },
    {
     "name": "stdout",
     "output_type": "stream",
     "text": [
      "Epoch 20: Train Acc = 0.8904, Val Acc = 0.8520\n"
     ]
    },
    {
     "name": "stderr",
     "output_type": "stream",
     "text": [
      "Epoch 21 Training: 100%|█████████████████████████████████████████████████████████████████████████████████████████████████| 113/113 [00:06<00:00, 16.94it/s]\n"
     ]
    },
    {
     "name": "stdout",
     "output_type": "stream",
     "text": [
      "Epoch 21: Train Acc = 0.8949, Val Acc = 0.7356\n"
     ]
    },
    {
     "name": "stderr",
     "output_type": "stream",
     "text": [
      "Epoch 22 Training: 100%|█████████████████████████████████████████████████████████████████████████████████████████████████| 113/113 [00:05<00:00, 21.12it/s]\n"
     ]
    },
    {
     "name": "stdout",
     "output_type": "stream",
     "text": [
      "Epoch 22: Train Acc = 0.8814, Val Acc = 0.7346\n"
     ]
    },
    {
     "name": "stderr",
     "output_type": "stream",
     "text": [
      "Epoch 23 Training: 100%|█████████████████████████████████████████████████████████████████████████████████████████████████| 113/113 [00:05<00:00, 20.77it/s]\n"
     ]
    },
    {
     "name": "stdout",
     "output_type": "stream",
     "text": [
      "Epoch 23: Train Acc = 0.8909, Val Acc = 0.7867\n"
     ]
    },
    {
     "name": "stderr",
     "output_type": "stream",
     "text": [
      "Epoch 24 Training: 100%|█████████████████████████████████████████████████████████████████████████████████████████████████| 113/113 [00:05<00:00, 19.55it/s]\n"
     ]
    },
    {
     "name": "stdout",
     "output_type": "stream",
     "text": [
      "Epoch 24: Train Acc = 0.8885, Val Acc = 0.7402\n"
     ]
    },
    {
     "name": "stderr",
     "output_type": "stream",
     "text": [
      "Epoch 25 Training: 100%|█████████████████████████████████████████████████████████████████████████████████████████████████| 113/113 [00:05<00:00, 19.68it/s]\n"
     ]
    },
    {
     "name": "stdout",
     "output_type": "stream",
     "text": [
      "Epoch 25: Train Acc = 0.8921, Val Acc = 0.7769\n"
     ]
    },
    {
     "name": "stderr",
     "output_type": "stream",
     "text": [
      "Epoch 26 Training: 100%|█████████████████████████████████████████████████████████████████████████████████████████████████| 113/113 [00:05<00:00, 21.38it/s]\n"
     ]
    },
    {
     "name": "stdout",
     "output_type": "stream",
     "text": [
      "Epoch 26: Train Acc = 0.9037, Val Acc = 0.8657\n"
     ]
    },
    {
     "name": "stderr",
     "output_type": "stream",
     "text": [
      "Epoch 27 Training: 100%|█████████████████████████████████████████████████████████████████████████████████████████████████| 113/113 [00:05<00:00, 22.38it/s]\n"
     ]
    },
    {
     "name": "stdout",
     "output_type": "stream",
     "text": [
      "Epoch 27: Train Acc = 0.9152, Val Acc = 0.6530\n"
     ]
    },
    {
     "name": "stderr",
     "output_type": "stream",
     "text": [
      "Epoch 28 Training: 100%|█████████████████████████████████████████████████████████████████████████████████████████████████| 113/113 [00:05<00:00, 22.01it/s]\n"
     ]
    },
    {
     "name": "stdout",
     "output_type": "stream",
     "text": [
      "Epoch 28: Train Acc = 0.8810, Val Acc = 0.8972\n"
     ]
    },
    {
     "name": "stderr",
     "output_type": "stream",
     "text": [
      "Epoch 29 Training: 100%|█████████████████████████████████████████████████████████████████████████████████████████████████| 113/113 [00:06<00:00, 17.20it/s]\n"
     ]
    },
    {
     "name": "stdout",
     "output_type": "stream",
     "text": [
      "Epoch 29: Train Acc = 0.9258, Val Acc = 0.8498\n"
     ]
    },
    {
     "name": "stderr",
     "output_type": "stream",
     "text": [
      "Epoch 30 Training: 100%|█████████████████████████████████████████████████████████████████████████████████████████████████| 113/113 [00:05<00:00, 19.58it/s]\n"
     ]
    },
    {
     "name": "stdout",
     "output_type": "stream",
     "text": [
      "Epoch 30: Train Acc = 0.9316, Val Acc = 0.9389\n"
     ]
    },
    {
     "name": "stderr",
     "output_type": "stream",
     "text": [
      "Epoch 31 Training: 100%|█████████████████████████████████████████████████████████████████████████████████████████████████| 113/113 [00:06<00:00, 16.17it/s]\n"
     ]
    },
    {
     "name": "stdout",
     "output_type": "stream",
     "text": [
      "Epoch 31: Train Acc = 0.9314, Val Acc = 0.9424\n"
     ]
    },
    {
     "name": "stderr",
     "output_type": "stream",
     "text": [
      "Epoch 32 Training: 100%|█████████████████████████████████████████████████████████████████████████████████████████████████| 113/113 [00:06<00:00, 16.48it/s]\n"
     ]
    },
    {
     "name": "stdout",
     "output_type": "stream",
     "text": [
      "Epoch 32: Train Acc = 0.9026, Val Acc = 0.7912\n"
     ]
    },
    {
     "name": "stderr",
     "output_type": "stream",
     "text": [
      "Epoch 33 Training: 100%|█████████████████████████████████████████████████████████████████████████████████████████████████| 113/113 [00:07<00:00, 16.07it/s]\n"
     ]
    },
    {
     "name": "stdout",
     "output_type": "stream",
     "text": [
      "Epoch 33: Train Acc = 0.9272, Val Acc = 0.9444\n"
     ]
    },
    {
     "name": "stderr",
     "output_type": "stream",
     "text": [
      "Epoch 34 Training: 100%|█████████████████████████████████████████████████████████████████████████████████████████████████| 113/113 [00:05<00:00, 19.45it/s]\n"
     ]
    },
    {
     "name": "stdout",
     "output_type": "stream",
     "text": [
      "Epoch 34: Train Acc = 0.9309, Val Acc = 0.8475\n"
     ]
    },
    {
     "name": "stderr",
     "output_type": "stream",
     "text": [
      "Epoch 35 Training: 100%|█████████████████████████████████████████████████████████████████████████████████████████████████| 113/113 [00:05<00:00, 20.32it/s]\n"
     ]
    },
    {
     "name": "stdout",
     "output_type": "stream",
     "text": [
      "Epoch 35: Train Acc = 0.9260, Val Acc = 0.9259\n"
     ]
    },
    {
     "name": "stderr",
     "output_type": "stream",
     "text": [
      "Epoch 36 Training: 100%|█████████████████████████████████████████████████████████████████████████████████████████████████| 113/113 [00:06<00:00, 16.80it/s]\n"
     ]
    },
    {
     "name": "stdout",
     "output_type": "stream",
     "text": [
      "Epoch 36: Train Acc = 0.9378, Val Acc = 0.8478\n"
     ]
    },
    {
     "name": "stderr",
     "output_type": "stream",
     "text": [
      "Epoch 37 Training: 100%|█████████████████████████████████████████████████████████████████████████████████████████████████| 113/113 [00:06<00:00, 17.33it/s]\n"
     ]
    },
    {
     "name": "stdout",
     "output_type": "stream",
     "text": [
      "Epoch 37: Train Acc = 0.9476, Val Acc = 0.8976\n"
     ]
    },
    {
     "name": "stderr",
     "output_type": "stream",
     "text": [
      "Epoch 38 Training: 100%|█████████████████████████████████████████████████████████████████████████████████████████████████| 113/113 [00:06<00:00, 16.85it/s]\n"
     ]
    },
    {
     "name": "stdout",
     "output_type": "stream",
     "text": [
      "Epoch 38: Train Acc = 0.9309, Val Acc = 0.8741\n"
     ]
    },
    {
     "name": "stderr",
     "output_type": "stream",
     "text": [
      "Epoch 39 Training: 100%|█████████████████████████████████████████████████████████████████████████████████████████████████| 113/113 [00:07<00:00, 15.78it/s]\n"
     ]
    },
    {
     "name": "stdout",
     "output_type": "stream",
     "text": [
      "Epoch 39: Train Acc = 0.9363, Val Acc = 0.9047\n"
     ]
    },
    {
     "name": "stderr",
     "output_type": "stream",
     "text": [
      "Epoch 40 Training: 100%|█████████████████████████████████████████████████████████████████████████████████████████████████| 113/113 [00:06<00:00, 18.75it/s]\n"
     ]
    },
    {
     "name": "stdout",
     "output_type": "stream",
     "text": [
      "Epoch 40: Train Acc = 0.9483, Val Acc = 0.8364\n"
     ]
    },
    {
     "name": "stderr",
     "output_type": "stream",
     "text": [
      "Epoch 41 Training: 100%|█████████████████████████████████████████████████████████████████████████████████████████████████| 113/113 [00:05<00:00, 20.29it/s]\n"
     ]
    },
    {
     "name": "stdout",
     "output_type": "stream",
     "text": [
      "Epoch 41: Train Acc = 0.9484, Val Acc = 0.8133\n"
     ]
    },
    {
     "name": "stderr",
     "output_type": "stream",
     "text": [
      "Epoch 42 Training: 100%|█████████████████████████████████████████████████████████████████████████████████████████████████| 113/113 [00:06<00:00, 18.65it/s]\n"
     ]
    },
    {
     "name": "stdout",
     "output_type": "stream",
     "text": [
      "Epoch 42: Train Acc = 0.9226, Val Acc = 0.7457\n"
     ]
    },
    {
     "name": "stderr",
     "output_type": "stream",
     "text": [
      "Epoch 43 Training: 100%|█████████████████████████████████████████████████████████████████████████████████████████████████| 113/113 [00:05<00:00, 19.45it/s]\n"
     ]
    },
    {
     "name": "stdout",
     "output_type": "stream",
     "text": [
      "Epoch 43: Train Acc = 0.9211, Val Acc = 0.9499\n"
     ]
    },
    {
     "name": "stderr",
     "output_type": "stream",
     "text": [
      "Epoch 44 Training: 100%|█████████████████████████████████████████████████████████████████████████████████████████████████| 113/113 [00:05<00:00, 20.54it/s]\n"
     ]
    },
    {
     "name": "stdout",
     "output_type": "stream",
     "text": [
      "Epoch 44: Train Acc = 0.9297, Val Acc = 0.9522\n"
     ]
    },
    {
     "name": "stderr",
     "output_type": "stream",
     "text": [
      "Epoch 45 Training: 100%|█████████████████████████████████████████████████████████████████████████████████████████████████| 113/113 [00:05<00:00, 19.68it/s]\n"
     ]
    },
    {
     "name": "stdout",
     "output_type": "stream",
     "text": [
      "Epoch 45: Train Acc = 0.9507, Val Acc = 0.9616\n"
     ]
    },
    {
     "name": "stderr",
     "output_type": "stream",
     "text": [
      "Epoch 46 Training: 100%|█████████████████████████████████████████████████████████████████████████████████████████████████| 113/113 [00:05<00:00, 19.83it/s]\n"
     ]
    },
    {
     "name": "stdout",
     "output_type": "stream",
     "text": [
      "Epoch 46: Train Acc = 0.9534, Val Acc = 0.9128\n"
     ]
    },
    {
     "name": "stderr",
     "output_type": "stream",
     "text": [
      "Epoch 47 Training: 100%|█████████████████████████████████████████████████████████████████████████████████████████████████| 113/113 [00:05<00:00, 20.21it/s]\n"
     ]
    },
    {
     "name": "stdout",
     "output_type": "stream",
     "text": [
      "Epoch 47: Train Acc = 0.9488, Val Acc = 0.7603\n"
     ]
    },
    {
     "name": "stderr",
     "output_type": "stream",
     "text": [
      "Epoch 48 Training: 100%|█████████████████████████████████████████████████████████████████████████████████████████████████| 113/113 [00:05<00:00, 19.99it/s]\n"
     ]
    },
    {
     "name": "stdout",
     "output_type": "stream",
     "text": [
      "Epoch 48: Train Acc = 0.9353, Val Acc = 0.9340\n"
     ]
    },
    {
     "name": "stderr",
     "output_type": "stream",
     "text": [
      "Epoch 49 Training: 100%|█████████████████████████████████████████████████████████████████████████████████████████████████| 113/113 [00:06<00:00, 17.24it/s]\n"
     ]
    },
    {
     "name": "stdout",
     "output_type": "stream",
     "text": [
      "Epoch 49: Train Acc = 0.9587, Val Acc = 0.9444\n"
     ]
    },
    {
     "name": "stderr",
     "output_type": "stream",
     "text": [
      "Epoch 50 Training: 100%|█████████████████████████████████████████████████████████████████████████████████████████████████| 113/113 [00:06<00:00, 16.78it/s]\n"
     ]
    },
    {
     "name": "stdout",
     "output_type": "stream",
     "text": [
      "Epoch 50: Train Acc = 0.9459, Val Acc = 0.7954\n"
     ]
    },
    {
     "name": "stderr",
     "output_type": "stream",
     "text": [
      "Epoch 51 Training: 100%|█████████████████████████████████████████████████████████████████████████████████████████████████| 113/113 [00:06<00:00, 17.21it/s]\n"
     ]
    },
    {
     "name": "stdout",
     "output_type": "stream",
     "text": [
      "Epoch 51: Train Acc = 0.9582, Val Acc = 0.8637\n"
     ]
    },
    {
     "name": "stderr",
     "output_type": "stream",
     "text": [
      "Epoch 52 Training: 100%|█████████████████████████████████████████████████████████████████████████████████████████████████| 113/113 [00:06<00:00, 16.62it/s]\n"
     ]
    },
    {
     "name": "stdout",
     "output_type": "stream",
     "text": [
      "Epoch 52: Train Acc = 0.9486, Val Acc = 0.9480\n"
     ]
    },
    {
     "name": "stderr",
     "output_type": "stream",
     "text": [
      "Epoch 53 Training: 100%|█████████████████████████████████████████████████████████████████████████████████████████████████| 113/113 [00:05<00:00, 19.06it/s]\n"
     ]
    },
    {
     "name": "stdout",
     "output_type": "stream",
     "text": [
      "Epoch 53: Train Acc = 0.9667, Val Acc = 0.9141\n"
     ]
    },
    {
     "name": "stderr",
     "output_type": "stream",
     "text": [
      "Epoch 54 Training: 100%|█████████████████████████████████████████████████████████████████████████████████████████████████| 113/113 [00:05<00:00, 19.04it/s]\n"
     ]
    },
    {
     "name": "stdout",
     "output_type": "stream",
     "text": [
      "Epoch 54: Train Acc = 0.9645, Val Acc = 0.9655\n"
     ]
    },
    {
     "name": "stderr",
     "output_type": "stream",
     "text": [
      "Epoch 55 Training: 100%|█████████████████████████████████████████████████████████████████████████████████████████████████| 113/113 [00:06<00:00, 17.46it/s]\n"
     ]
    },
    {
     "name": "stdout",
     "output_type": "stream",
     "text": [
      "Epoch 55: Train Acc = 0.9650, Val Acc = 0.9655\n"
     ]
    },
    {
     "name": "stderr",
     "output_type": "stream",
     "text": [
      "Epoch 56 Training: 100%|█████████████████████████████████████████████████████████████████████████████████████████████████| 113/113 [00:05<00:00, 20.23it/s]\n"
     ]
    },
    {
     "name": "stdout",
     "output_type": "stream",
     "text": [
      "Epoch 56: Train Acc = 0.9654, Val Acc = 0.9093\n"
     ]
    },
    {
     "name": "stderr",
     "output_type": "stream",
     "text": [
      "Epoch 57 Training: 100%|█████████████████████████████████████████████████████████████████████████████████████████████████| 113/113 [00:05<00:00, 20.76it/s]\n"
     ]
    },
    {
     "name": "stdout",
     "output_type": "stream",
     "text": [
      "Epoch 57: Train Acc = 0.9737, Val Acc = 0.9307\n"
     ]
    },
    {
     "name": "stderr",
     "output_type": "stream",
     "text": [
      "Epoch 58 Training: 100%|█████████████████████████████████████████████████████████████████████████████████████████████████| 113/113 [00:05<00:00, 21.97it/s]\n"
     ]
    },
    {
     "name": "stdout",
     "output_type": "stream",
     "text": [
      "Epoch 58: Train Acc = 0.9600, Val Acc = 0.9304\n"
     ]
    },
    {
     "name": "stderr",
     "output_type": "stream",
     "text": [
      "Epoch 59 Training: 100%|█████████████████████████████████████████████████████████████████████████████████████████████████| 113/113 [00:06<00:00, 16.98it/s]\n"
     ]
    },
    {
     "name": "stdout",
     "output_type": "stream",
     "text": [
      "Epoch 59: Train Acc = 0.9716, Val Acc = 0.9603\n"
     ]
    },
    {
     "name": "stderr",
     "output_type": "stream",
     "text": [
      "Epoch 60 Training: 100%|█████████████████████████████████████████████████████████████████████████████████████████████████| 113/113 [00:06<00:00, 17.34it/s]\n"
     ]
    },
    {
     "name": "stdout",
     "output_type": "stream",
     "text": [
      "Epoch 60: Train Acc = 0.9693, Val Acc = 0.8940\n"
     ]
    },
    {
     "name": "stderr",
     "output_type": "stream",
     "text": [
      "Epoch 61 Training: 100%|█████████████████████████████████████████████████████████████████████████████████████████████████| 113/113 [00:05<00:00, 18.87it/s]\n"
     ]
    },
    {
     "name": "stdout",
     "output_type": "stream",
     "text": [
      "Epoch 61: Train Acc = 0.9632, Val Acc = 0.7860\n"
     ]
    },
    {
     "name": "stderr",
     "output_type": "stream",
     "text": [
      "Epoch 62 Training: 100%|█████████████████████████████████████████████████████████████████████████████████████████████████| 113/113 [00:05<00:00, 19.42it/s]\n"
     ]
    },
    {
     "name": "stdout",
     "output_type": "stream",
     "text": [
      "Epoch 62: Train Acc = 0.9632, Val Acc = 0.9548\n"
     ]
    },
    {
     "name": "stderr",
     "output_type": "stream",
     "text": [
      "Epoch 63 Training: 100%|█████████████████████████████████████████████████████████████████████████████████████████████████| 113/113 [00:05<00:00, 19.83it/s]\n"
     ]
    },
    {
     "name": "stdout",
     "output_type": "stream",
     "text": [
      "Epoch 63: Train Acc = 0.9679, Val Acc = 0.9698\n"
     ]
    },
    {
     "name": "stderr",
     "output_type": "stream",
     "text": [
      "Epoch 64 Training: 100%|█████████████████████████████████████████████████████████████████████████████████████████████████| 113/113 [00:06<00:00, 18.65it/s]\n"
     ]
    },
    {
     "name": "stdout",
     "output_type": "stream",
     "text": [
      "Epoch 64: Train Acc = 0.9734, Val Acc = 0.9652\n"
     ]
    },
    {
     "name": "stderr",
     "output_type": "stream",
     "text": [
      "Epoch 65 Training: 100%|█████████████████████████████████████████████████████████████████████████████████████████████████| 113/113 [00:06<00:00, 18.59it/s]\n"
     ]
    },
    {
     "name": "stdout",
     "output_type": "stream",
     "text": [
      "Epoch 65: Train Acc = 0.9684, Val Acc = 0.9698\n"
     ]
    },
    {
     "name": "stderr",
     "output_type": "stream",
     "text": [
      "Epoch 66 Training: 100%|█████████████████████████████████████████████████████████████████████████████████████████████████| 113/113 [00:06<00:00, 17.91it/s]\n"
     ]
    },
    {
     "name": "stdout",
     "output_type": "stream",
     "text": [
      "Epoch 66: Train Acc = 0.9788, Val Acc = 0.9574\n"
     ]
    },
    {
     "name": "stderr",
     "output_type": "stream",
     "text": [
      "Epoch 67 Training: 100%|█████████████████████████████████████████████████████████████████████████████████████████████████| 113/113 [00:06<00:00, 18.38it/s]\n"
     ]
    },
    {
     "name": "stdout",
     "output_type": "stream",
     "text": [
      "Epoch 67: Train Acc = 0.9745, Val Acc = 0.9720\n"
     ]
    },
    {
     "name": "stderr",
     "output_type": "stream",
     "text": [
      "Epoch 68 Training: 100%|█████████████████████████████████████████████████████████████████████████████████████████████████| 113/113 [00:07<00:00, 15.92it/s]\n"
     ]
    },
    {
     "name": "stdout",
     "output_type": "stream",
     "text": [
      "Epoch 68: Train Acc = 0.9780, Val Acc = 0.9580\n"
     ]
    },
    {
     "name": "stderr",
     "output_type": "stream",
     "text": [
      "Epoch 69 Training: 100%|█████████████████████████████████████████████████████████████████████████████████████████████████| 113/113 [00:06<00:00, 17.08it/s]\n"
     ]
    },
    {
     "name": "stdout",
     "output_type": "stream",
     "text": [
      "Epoch 69: Train Acc = 0.9720, Val Acc = 0.9746\n"
     ]
    },
    {
     "name": "stderr",
     "output_type": "stream",
     "text": [
      "Epoch 70 Training: 100%|█████████████████████████████████████████████████████████████████████████████████████████████████| 113/113 [00:06<00:00, 18.33it/s]\n"
     ]
    },
    {
     "name": "stdout",
     "output_type": "stream",
     "text": [
      "Epoch 70: Train Acc = 0.9802, Val Acc = 0.9707\n"
     ]
    },
    {
     "name": "stderr",
     "output_type": "stream",
     "text": [
      "Epoch 71 Training: 100%|█████████████████████████████████████████████████████████████████████████████████████████████████| 113/113 [00:07<00:00, 15.43it/s]\n"
     ]
    },
    {
     "name": "stdout",
     "output_type": "stream",
     "text": [
      "Epoch 71: Train Acc = 0.9770, Val Acc = 0.9551\n"
     ]
    },
    {
     "name": "stderr",
     "output_type": "stream",
     "text": [
      "Epoch 72 Training: 100%|█████████████████████████████████████████████████████████████████████████████████████████████████| 113/113 [00:06<00:00, 18.42it/s]\n"
     ]
    },
    {
     "name": "stdout",
     "output_type": "stream",
     "text": [
      "Epoch 72: Train Acc = 0.9777, Val Acc = 0.9714\n"
     ]
    },
    {
     "name": "stderr",
     "output_type": "stream",
     "text": [
      "Epoch 73 Training: 100%|█████████████████████████████████████████████████████████████████████████████████████████████████| 113/113 [00:06<00:00, 16.53it/s]\n"
     ]
    },
    {
     "name": "stdout",
     "output_type": "stream",
     "text": [
      "Epoch 73: Train Acc = 0.9816, Val Acc = 0.9441\n"
     ]
    },
    {
     "name": "stderr",
     "output_type": "stream",
     "text": [
      "Epoch 74 Training: 100%|█████████████████████████████████████████████████████████████████████████████████████████████████| 113/113 [00:06<00:00, 17.57it/s]\n"
     ]
    },
    {
     "name": "stdout",
     "output_type": "stream",
     "text": [
      "Epoch 74: Train Acc = 0.9799, Val Acc = 0.9580\n"
     ]
    },
    {
     "name": "stderr",
     "output_type": "stream",
     "text": [
      "Epoch 75 Training: 100%|█████████████████████████████████████████████████████████████████████████████████████████████████| 113/113 [00:06<00:00, 16.66it/s]\n"
     ]
    },
    {
     "name": "stdout",
     "output_type": "stream",
     "text": [
      "Epoch 75: Train Acc = 0.9842, Val Acc = 0.9737\n"
     ]
    },
    {
     "name": "stderr",
     "output_type": "stream",
     "text": [
      "Epoch 76 Training: 100%|█████████████████████████████████████████████████████████████████████████████████████████████████| 113/113 [00:05<00:00, 22.48it/s]\n"
     ]
    },
    {
     "name": "stdout",
     "output_type": "stream",
     "text": [
      "Epoch 76: Train Acc = 0.9827, Val Acc = 0.9509\n"
     ]
    },
    {
     "name": "stderr",
     "output_type": "stream",
     "text": [
      "Epoch 77 Training: 100%|█████████████████████████████████████████████████████████████████████████████████████████████████| 113/113 [00:05<00:00, 21.77it/s]\n"
     ]
    },
    {
     "name": "stdout",
     "output_type": "stream",
     "text": [
      "Epoch 77: Train Acc = 0.9796, Val Acc = 0.9711\n"
     ]
    },
    {
     "name": "stderr",
     "output_type": "stream",
     "text": [
      "Epoch 78 Training: 100%|█████████████████████████████████████████████████████████████████████████████████████████████████| 113/113 [00:06<00:00, 16.88it/s]\n"
     ]
    },
    {
     "name": "stdout",
     "output_type": "stream",
     "text": [
      "Epoch 78: Train Acc = 0.9834, Val Acc = 0.9659\n"
     ]
    },
    {
     "name": "stderr",
     "output_type": "stream",
     "text": [
      "Epoch 79 Training: 100%|█████████████████████████████████████████████████████████████████████████████████████████████████| 113/113 [00:05<00:00, 19.06it/s]\n"
     ]
    },
    {
     "name": "stdout",
     "output_type": "stream",
     "text": [
      "Epoch 79: Train Acc = 0.9827, Val Acc = 0.9766\n"
     ]
    },
    {
     "name": "stderr",
     "output_type": "stream",
     "text": [
      "Epoch 80 Training: 100%|█████████████████████████████████████████████████████████████████████████████████████████████████| 113/113 [00:05<00:00, 21.12it/s]\n"
     ]
    },
    {
     "name": "stdout",
     "output_type": "stream",
     "text": [
      "Epoch 80: Train Acc = 0.9848, Val Acc = 0.9750\n"
     ]
    },
    {
     "name": "stderr",
     "output_type": "stream",
     "text": [
      "Epoch 81 Training: 100%|█████████████████████████████████████████████████████████████████████████████████████████████████| 113/113 [00:05<00:00, 20.22it/s]\n"
     ]
    },
    {
     "name": "stdout",
     "output_type": "stream",
     "text": [
      "Epoch 81: Train Acc = 0.9794, Val Acc = 0.9665\n"
     ]
    },
    {
     "name": "stderr",
     "output_type": "stream",
     "text": [
      "Epoch 82 Training: 100%|█████████████████████████████████████████████████████████████████████████████████████████████████| 113/113 [00:06<00:00, 18.01it/s]\n"
     ]
    },
    {
     "name": "stdout",
     "output_type": "stream",
     "text": [
      "Epoch 82: Train Acc = 0.9762, Val Acc = 0.9743\n"
     ]
    },
    {
     "name": "stderr",
     "output_type": "stream",
     "text": [
      "Epoch 83 Training: 100%|█████████████████████████████████████████████████████████████████████████████████████████████████| 113/113 [00:06<00:00, 18.37it/s]\n"
     ]
    },
    {
     "name": "stdout",
     "output_type": "stream",
     "text": [
      "Epoch 83: Train Acc = 0.9872, Val Acc = 0.9707\n"
     ]
    },
    {
     "name": "stderr",
     "output_type": "stream",
     "text": [
      "Epoch 84 Training: 100%|█████████████████████████████████████████████████████████████████████████████████████████████████| 113/113 [00:06<00:00, 17.99it/s]\n"
     ]
    },
    {
     "name": "stdout",
     "output_type": "stream",
     "text": [
      "Epoch 84: Train Acc = 0.9849, Val Acc = 0.9769\n"
     ]
    },
    {
     "name": "stderr",
     "output_type": "stream",
     "text": [
      "Epoch 85 Training: 100%|█████████████████████████████████████████████████████████████████████████████████████████████████| 113/113 [00:06<00:00, 17.32it/s]\n"
     ]
    },
    {
     "name": "stdout",
     "output_type": "stream",
     "text": [
      "Epoch 85: Train Acc = 0.9861, Val Acc = 0.9782\n"
     ]
    },
    {
     "name": "stderr",
     "output_type": "stream",
     "text": [
      "Epoch 86 Training: 100%|█████████████████████████████████████████████████████████████████████████████████████████████████| 113/113 [00:06<00:00, 17.61it/s]\n"
     ]
    },
    {
     "name": "stdout",
     "output_type": "stream",
     "text": [
      "Epoch 86: Train Acc = 0.9841, Val Acc = 0.9792\n"
     ]
    },
    {
     "name": "stderr",
     "output_type": "stream",
     "text": [
      "Epoch 87 Training: 100%|█████████████████████████████████████████████████████████████████████████████████████████████████| 113/113 [00:06<00:00, 17.69it/s]\n"
     ]
    },
    {
     "name": "stdout",
     "output_type": "stream",
     "text": [
      "Epoch 87: Train Acc = 0.9873, Val Acc = 0.9795\n"
     ]
    },
    {
     "name": "stderr",
     "output_type": "stream",
     "text": [
      "Epoch 88 Training: 100%|█████████████████████████████████████████████████████████████████████████████████████████████████| 113/113 [00:06<00:00, 17.13it/s]\n"
     ]
    },
    {
     "name": "stdout",
     "output_type": "stream",
     "text": [
      "Epoch 88: Train Acc = 0.9876, Val Acc = 0.9808\n"
     ]
    },
    {
     "name": "stderr",
     "output_type": "stream",
     "text": [
      "Epoch 89 Training: 100%|█████████████████████████████████████████████████████████████████████████████████████████████████| 113/113 [00:06<00:00, 17.01it/s]\n"
     ]
    },
    {
     "name": "stdout",
     "output_type": "stream",
     "text": [
      "Epoch 89: Train Acc = 0.9882, Val Acc = 0.9795\n"
     ]
    },
    {
     "name": "stderr",
     "output_type": "stream",
     "text": [
      "Epoch 90 Training: 100%|█████████████████████████████████████████████████████████████████████████████████████████████████| 113/113 [00:06<00:00, 17.49it/s]\n"
     ]
    },
    {
     "name": "stdout",
     "output_type": "stream",
     "text": [
      "Epoch 90: Train Acc = 0.9893, Val Acc = 0.9789\n"
     ]
    },
    {
     "name": "stderr",
     "output_type": "stream",
     "text": [
      "Epoch 91 Training: 100%|█████████████████████████████████████████████████████████████████████████████████████████████████| 113/113 [00:05<00:00, 21.14it/s]\n"
     ]
    },
    {
     "name": "stdout",
     "output_type": "stream",
     "text": [
      "Epoch 91: Train Acc = 0.9870, Val Acc = 0.9785\n"
     ]
    },
    {
     "name": "stderr",
     "output_type": "stream",
     "text": [
      "Epoch 92 Training: 100%|█████████████████████████████████████████████████████████████████████████████████████████████████| 113/113 [00:05<00:00, 19.24it/s]\n"
     ]
    },
    {
     "name": "stdout",
     "output_type": "stream",
     "text": [
      "Epoch 92: Train Acc = 0.9873, Val Acc = 0.9811\n"
     ]
    },
    {
     "name": "stderr",
     "output_type": "stream",
     "text": [
      "Epoch 93 Training: 100%|█████████████████████████████████████████████████████████████████████████████████████████████████| 113/113 [00:05<00:00, 21.52it/s]\n"
     ]
    },
    {
     "name": "stdout",
     "output_type": "stream",
     "text": [
      "Epoch 93: Train Acc = 0.9883, Val Acc = 0.9802\n"
     ]
    },
    {
     "name": "stderr",
     "output_type": "stream",
     "text": [
      "Epoch 94 Training: 100%|█████████████████████████████████████████████████████████████████████████████████████████████████| 113/113 [00:05<00:00, 21.13it/s]\n"
     ]
    },
    {
     "name": "stdout",
     "output_type": "stream",
     "text": [
      "Epoch 94: Train Acc = 0.9888, Val Acc = 0.9805\n"
     ]
    },
    {
     "name": "stderr",
     "output_type": "stream",
     "text": [
      "Epoch 95 Training: 100%|█████████████████████████████████████████████████████████████████████████████████████████████████| 113/113 [00:05<00:00, 18.89it/s]\n"
     ]
    },
    {
     "name": "stdout",
     "output_type": "stream",
     "text": [
      "Epoch 95: Train Acc = 0.9870, Val Acc = 0.9805\n"
     ]
    },
    {
     "name": "stderr",
     "output_type": "stream",
     "text": [
      "Epoch 96 Training: 100%|█████████████████████████████████████████████████████████████████████████████████████████████████| 113/113 [00:06<00:00, 18.50it/s]\n"
     ]
    },
    {
     "name": "stdout",
     "output_type": "stream",
     "text": [
      "Epoch 96: Train Acc = 0.9879, Val Acc = 0.9805\n"
     ]
    },
    {
     "name": "stderr",
     "output_type": "stream",
     "text": [
      "Epoch 97 Training: 100%|█████████████████████████████████████████████████████████████████████████████████████████████████| 113/113 [00:05<00:00, 18.91it/s]\n"
     ]
    },
    {
     "name": "stdout",
     "output_type": "stream",
     "text": [
      "Epoch 97: Train Acc = 0.9868, Val Acc = 0.9795\n"
     ]
    },
    {
     "name": "stderr",
     "output_type": "stream",
     "text": [
      "Epoch 98 Training: 100%|█████████████████████████████████████████████████████████████████████████████████████████████████| 113/113 [00:05<00:00, 19.26it/s]\n"
     ]
    },
    {
     "name": "stdout",
     "output_type": "stream",
     "text": [
      "Epoch 98: Train Acc = 0.9880, Val Acc = 0.9792\n"
     ]
    },
    {
     "name": "stderr",
     "output_type": "stream",
     "text": [
      "Epoch 99 Training: 100%|█████████████████████████████████████████████████████████████████████████████████████████████████| 113/113 [00:05<00:00, 19.25it/s]\n"
     ]
    },
    {
     "name": "stdout",
     "output_type": "stream",
     "text": [
      "Epoch 99: Train Acc = 0.9887, Val Acc = 0.9798\n"
     ]
    },
    {
     "name": "stderr",
     "output_type": "stream",
     "text": [
      "Epoch 100 Training: 100%|████████████████████████████████████████████████████████████████████████████████████████████████| 113/113 [00:06<00:00, 18.66it/s]\n"
     ]
    },
    {
     "name": "stdout",
     "output_type": "stream",
     "text": [
      "Epoch 100: Train Acc = 0.9886, Val Acc = 0.9808\n",
      "\n",
      "✅ Best Validation Accuracy: 98.11%\n",
      "✅ Best Training Accuracy: 98.73%\n",
      "\n",
      "Classification Report:\n",
      "               precision    recall  f1-score   support\n",
      "\n",
      "           0      1.000     0.929     0.963        14\n",
      "           1      0.998     0.981     0.989       428\n",
      "           2      0.965     0.992     0.978       249\n",
      "           3      0.986     0.958     0.971        71\n",
      "           4      0.986     0.979     0.983       145\n",
      "           5      0.986     0.991     0.989       219\n",
      "           6      1.000     0.625     0.769         8\n",
      "           7      0.979     0.986     0.983       143\n",
      "           8      1.000     1.000     1.000         6\n",
      "           9      0.973     0.997     0.985       292\n",
      "          10      0.989     0.985     0.987       737\n",
      "          11      0.994     0.978     0.986       178\n",
      "          12      1.000     1.000     1.000        61\n",
      "          13      0.959     0.995     0.977       380\n",
      "          14      0.943     0.862     0.901       116\n",
      "          15      1.000     1.000     1.000        28\n",
      "\n",
      "    accuracy                          0.981      3075\n",
      "   macro avg      0.985     0.954     0.966      3075\n",
      "weighted avg      0.981     0.981     0.981      3075\n",
      "\n"
     ]
    },
    {
     "data": {
      "image/png": "[encoded data removed]",
      "text/plain": [
       "<Figure size 800x500 with 1 Axes>"
      ]
     },
     "metadata": {},
     "output_type": "display_data"
    }
   ],
   "source": [
    "import numpy as np\n",
    "import torch\n",
    "import torch.nn as nn\n",
    "from torch.utils.data import Dataset, DataLoader\n",
    "from sklearn.model_selection import train_test_split\n",
    "from sklearn.preprocessing import StandardScaler\n",
    "from sklearn.metrics import classification_report\n",
    "from sklearn.feature_selection import mutual_info_classif\n",
    "from scipy.io import loadmat\n",
    "import matplotlib.pyplot as plt\n",
    "from tqdm import tqdm\n",
    "import random\n",
    "\n",
    "# === Config ===\n",
    "PATCH_SIZE = 5\n",
    "NUM_CLASSES = 16\n",
    "BATCH_SIZE = 64\n",
    "MAX_EPOCHS = 100\n",
    "EARLY_STOP_PATIENCE = 10\n",
    "\n",
    "# === Load Data ===\n",
    "def load_indian_pines():\n",
    "    mat = loadmat('Indian_pines_corrected.mat')\n",
    "    gt = loadmat('Indian_pines_gt.mat')\n",
    "    X = mat['indian_pines_corrected']\n",
    "    y = gt['indian_pines_gt']\n",
    "    bad = [104, 105, 106, 138, 139, 140, 152, 153, 154]  # Remove noisy bands\n",
    "    X = np.delete(X, bad, axis=2)\n",
    "    return X, y\n",
    "\n",
    "# === Band Selection ===\n",
    "def select_top_bands(X, y, top_n=30):\n",
    "    h, w, d = X.shape\n",
    "    X2 = X.reshape(-1, d)\n",
    "    y2 = y.flatten()\n",
    "    mask = y2 > 0\n",
    "    X_sel = X2[mask]\n",
    "    y_sel = y2[mask] - 1\n",
    "    info = mutual_info_classif(X_sel, y_sel)\n",
    "    selected = np.argsort(info)[-top_n:]\n",
    "    return selected\n",
    "\n",
    "# === Patch Extraction and Normalization ===\n",
    "def extract_patches_norm(X, y, bands, patch_size=5):\n",
    "    h, w, d = X.shape\n",
    "    Xb = X[:, :, bands]\n",
    "    pad = patch_size // 2\n",
    "    Xpad = np.pad(Xb, ((pad, pad), (pad, pad), (0, 0)), mode='reflect')\n",
    "    ypad = np.pad(y, pad, mode='reflect')\n",
    "    patches, labels = [], []\n",
    "    for i in range(pad, pad + h):\n",
    "        for j in range(pad, pad + w):\n",
    "            lbl = ypad[i, j]\n",
    "            if lbl == 0:\n",
    "                continue\n",
    "            patch = Xpad[i - pad:i + pad + 1, j - pad:j + pad + 1, :]\n",
    "            if random.random() > 0.5:\n",
    "                patch = np.flip(patch, axis=0)\n",
    "            if random.random() > 0.5:\n",
    "                patch = np.flip(patch, axis=1)\n",
    "            if random.random() > 0.5:\n",
    "                patch = np.rot90(patch, random.choice([1, 2, 3]))\n",
    "            patches.append(patch.astype(np.float32))\n",
    "            labels.append(lbl - 1)\n",
    "    patches = np.stack(patches)\n",
    "    labels = np.array(labels)\n",
    "    B, H, W, C = patches.shape\n",
    "    flat = patches.reshape(-1, C)\n",
    "    scaler = StandardScaler().fit(flat)\n",
    "    patches = scaler.transform(flat).reshape(B, H, W, C)\n",
    "    return patches, labels\n",
    "\n",
    "# === Dataset Class ===\n",
    "class HSIDataset(Dataset):\n",
    "    def __init__(self, patches, labels):\n",
    "        self.X = torch.from_numpy(patches).permute(0, 3, 1, 2)\n",
    "        self.y = torch.from_numpy(labels).long()\n",
    "\n",
    "    def __len__(self):\n",
    "        return len(self.y)\n",
    "\n",
    "    def __getitem__(self, i):\n",
    "        return self.X[i], self.y[i]\n",
    "\n",
    "# === CNN Branch ===\n",
    "class CNNBranch(nn.Module):\n",
    "    def __init__(self, in_ch):\n",
    "        super().__init__()\n",
    "        self.net = nn.Sequential(\n",
    "            nn.Conv2d(in_ch, 64, 3, padding=1),\n",
    "            nn.BatchNorm2d(64), nn.ReLU(),\n",
    "            nn.Conv2d(64, 128, 3, padding=1),\n",
    "            nn.BatchNorm2d(128), nn.ReLU(),\n",
    "            nn.Conv2d(128, 64, 3, padding=1),\n",
    "            nn.AdaptiveAvgPool2d(1)\n",
    "        )\n",
    "\n",
    "    def forward(self, x):\n",
    "        return self.net(x).view(x.size(0), -1)\n",
    "\n",
    "# === Vision Transformer Block ===\n",
    "class ViTBlock(nn.Module):\n",
    "    def __init__(self, in_ch, patch_size, dim=128, heads=4, mlp_dim=256, dropout=0.1):\n",
    "        super().__init__()\n",
    "        self.flatten = nn.Flatten()\n",
    "        self.tokenizer = nn.Linear(in_ch * patch_size * patch_size, dim)\n",
    "        self.attn = nn.MultiheadAttention(dim, heads, dropout=dropout, batch_first=True)\n",
    "        self.norm1 = nn.LayerNorm(dim)\n",
    "        self.norm2 = nn.LayerNorm(dim)\n",
    "        self.ff = nn.Sequential(nn.Linear(dim, mlp_dim), nn.ReLU(), nn.Linear(mlp_dim, dim))\n",
    "        self.dropout = nn.Dropout(dropout)\n",
    "\n",
    "    def forward(self, x):\n",
    "        B = x.size(0)\n",
    "        x = self.flatten(x).unsqueeze(1)\n",
    "        x = self.tokenizer(x)\n",
    "        attn, _ = self.attn(x, x, x)\n",
    "        x = self.norm1(x + self.dropout(attn))\n",
    "        ff = self.ff(x)\n",
    "        x = self.norm2(x + self.dropout(ff))\n",
    "        return x.squeeze(1)\n",
    "\n",
    "# === Combined Model ===\n",
    "class CombinedModel(nn.Module):\n",
    "    def __init__(self, in_ch, patch_size, num_classes):\n",
    "        super().__init__()\n",
    "        self.cnn = CNNBranch(in_ch)\n",
    "        self.vit = ViTBlock(in_ch, patch_size)\n",
    "        self.classifier = nn.Sequential(\n",
    "            nn.Linear(64 + 128, 128),\n",
    "            nn.ReLU(), nn.Dropout(0.3),\n",
    "            nn.Linear(128, num_classes)\n",
    "        )\n",
    "\n",
    "    def forward(self, x):\n",
    "        c = self.cnn(x)\n",
    "        v = self.vit(x)\n",
    "        return self.classifier(torch.cat([c, v], dim=1))\n",
    "\n",
    "# === Training Function ===\n",
    "def train_and_evaluate(model, train_dl, val_dl, device):\n",
    "    model.to(device)\n",
    "    opt = torch.optim.Adam(model.parameters(), lr=1e-3)\n",
    "    sched = torch.optim.lr_scheduler.CosineAnnealingLR(opt, T_max=MAX_EPOCHS)\n",
    "    loss_fn = nn.CrossEntropyLoss()\n",
    "    best_val_acc = 0\n",
    "    best_train_acc = 0\n",
    "    wait = 0\n",
    "    record_tr, record_val = [], []\n",
    "\n",
    "    for ep in range(1, MAX_EPOCHS + 1):\n",
    "        model.train()\n",
    "        total = correct = 0\n",
    "        for xb, yb in tqdm(train_dl, desc=f\"Epoch {ep} Training\"):\n",
    "            xb, yb = xb.to(device), yb.to(device)\n",
    "            opt.zero_grad()\n",
    "            pred = model(xb)\n",
    "            loss = loss_fn(pred, yb)\n",
    "            loss.backward()\n",
    "            opt.step()\n",
    "            correct += (pred.argmax(1) == yb).sum().item()\n",
    "            total += yb.size(0)\n",
    "        tr_acc = correct / total\n",
    "        record_tr.append(tr_acc)\n",
    "\n",
    "        model.eval()\n",
    "        correct = total = 0\n",
    "        with torch.no_grad():\n",
    "            for xb, yb in val_dl:\n",
    "                xb, yb = xb.to(device), yb.to(device)\n",
    "                pred = model(xb)\n",
    "                correct += (pred.argmax(1) == yb).sum().item()\n",
    "                total += yb.size(0)\n",
    "        val_acc = correct / total\n",
    "        record_val.append(val_acc)\n",
    "\n",
    "        print(f\"Epoch {ep}: Train Acc = {tr_acc:.4f}, Val Acc = {val_acc:.4f}\")\n",
    "        sched.step()\n",
    "\n",
    "        if val_acc > best_val_acc:\n",
    "            best_val_acc = val_acc\n",
    "            best_train_acc = tr_acc\n",
    "            wait = 0\n",
    "            torch.save(model.state_dict(), 'best_combined.pth')\n",
    "        else:\n",
    "            wait += 1\n",
    "        if wait >= EARLY_STOP_PATIENCE and val_acc >= 0.98:\n",
    "            print(\"✅ Early stopping triggered.\")\n",
    "            break\n",
    "\n",
    "    print(f\"\\n✅ Best Validation Accuracy: {best_val_acc*100:.2f}%\")\n",
    "    print(f\"✅ Best Training Accuracy: {best_train_acc*100:.2f}%\")\n",
    "    return record_tr, record_val\n",
    "\n",
    "# === Main ===\n",
    "if __name__ == '__main__':\n",
    "    X, y = load_indian_pines()\n",
    "    bands = select_top_bands(X, y, top_n=30)\n",
    "    print(\"Selected bands (top 30):\", bands.tolist())\n",
    "\n",
    "    patches, labels = extract_patches_norm(X, y, bands, patch_size=PATCH_SIZE)\n",
    "    X_tr, X_val, y_tr, y_val = train_test_split(patches, labels, test_size=0.3, stratify=labels, random_state=42)\n",
    "\n",
    "    train_ds = HSIDataset(X_tr, y_tr)\n",
    "    val_ds = HSIDataset(X_val, y_val)\n",
    "    train_dl = DataLoader(train_ds, batch_size=BATCH_SIZE, shuffle=True)\n",
    "    val_dl = DataLoader(val_ds, batch_size=BATCH_SIZE)\n",
    "\n",
    "    device = torch.device('cuda' if torch.cuda.is_available() else 'cpu')\n",
    "    model = CombinedModel(in_ch=len(bands), patch_size=PATCH_SIZE, num_classes=NUM_CLASSES)\n",
    "\n",
    "    tr_acc, val_acc = train_and_evaluate(model, train_dl, val_dl, device)\n",
    "\n",
    "    model.load_state_dict(torch.load('best_combined.pth'))\n",
    "    model.eval()\n",
    "    y_true, y_pred = [], []\n",
    "    with torch.no_grad():\n",
    "        for xb, yb in val_dl:\n",
    "            pred = model(xb.to(device)).argmax(1).cpu().numpy()\n",
    "            y_pred.extend(pred)\n",
    "            y_true.extend(yb.numpy())\n",
    "\n",
    "    print(\"\\nClassification Report:\\n\", classification_report(y_true, y_pred, digits=3))\n",
    "\n",
    "    # === Plot Accuracy ===\n",
    "    plt.figure(figsize=(8, 5))\n",
    "    plt.plot(tr_acc, label='Train Accuracy')\n",
    "    plt.plot(val_acc, label='Validation Accuracy')\n",
    "    plt.xlabel('Epoch')\n",
    "    plt.ylabel('Accuracy')\n",
    "    plt.title('Training and Validation Accuracy Curve')\n",
    "    plt.legend()\n",
    "    plt.grid(True)\n",
    "    plt.tight_layout()\n",
    "    plt.show()\n",
    "\n"
   ]
  },
  {
   "cell_type": "code",
   "execution_count": null,
   "id": "80f9143f-84cd-4a38-b4b8-9f9636d512f4",
   "metadata": {},
   "outputs": [],
   "source": []
  }
 ],
 "metadata": {
  "kernelspec": {
   "display_name": "Python 3 (ipykernel)",
   "language": "python",
   "name": "python3"
  },
  "language_info": {
   "codemirror_mode": {
    "name": "ipython",
    "version": 3
   },
   "file_extension": ".py",
   "mimetype": "text/x-python",
   "name": "python",
   "nbconvert_exporter": "python",
   "pygments_lexer": "ipython3",
   "version": "3.12.7"
  }
 },
 "nbformat": 4,
 "nbformat_minor": 5
}
